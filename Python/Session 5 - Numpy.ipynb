{
 "cells": [
  {
   "cell_type": "markdown",
   "metadata": {},
   "source": [
    "# Session 5: From Single to Multiple Values: Arrays and NumPy"
   ]
  },
  {
   "cell_type": "markdown",
   "metadata": {},
   "source": [
    "### Creating Arrays\n",
    "In Python, arrays can be created manually.\n",
    "\n",
    "#### Example: Creating an array manually\n"
   ]
  },
  {
   "cell_type": "code",
   "execution_count": 2,
   "metadata": {},
   "outputs": [
    {
     "name": "stdout",
     "output_type": "stream",
     "text": [
      "[5 6 7 8]\n"
     ]
    }
   ],
   "source": [
    "import numpy as np\n",
    "\n",
    "my_array = np.array([5,6,7,8])\n",
    "print(my_array)"
   ]
  },
  {
   "cell_type": "markdown",
   "metadata": {},
   "source": [
    "They can also be created quickly and automatically using NumPy function`linspace` to generate evenly spaced points in an interval: `np.linspace(start, stop, number of points)`"
   ]
  },
  {
   "cell_type": "markdown",
   "metadata": {},
   "source": [
    "### Practice Problem 1\n",
    "- Create a NumPy array `my_array` with values `[5, 10, 15, 20, 25]`.\n",
    "- Multiply each element by 3 and print the result.\n",
    "\n",
    "#### Solution:\n"
   ]
  },
  {
   "cell_type": "code",
   "execution_count": 3,
   "metadata": {},
   "outputs": [
    {
     "name": "stdout",
     "output_type": "stream",
     "text": [
      "[15 30 45 60 75]\n"
     ]
    }
   ],
   "source": [
    "import numpy as np\n",
    "\n",
    "my_array = np.array([5, 10, 15, 20, 25])\n",
    "print(my_array*3)"
   ]
  },
  {
   "cell_type": "markdown",
   "metadata": {},
   "source": [
    " ### Practice Problem 2\n",
    "\n",
    " Write a function that takes two arrays (they have to be the same size), adds them together, and then returns the mean of the summed array."
   ]
  },
  {
   "cell_type": "code",
   "execution_count": 4,
   "metadata": {},
   "outputs": [
    {
     "name": "stdout",
     "output_type": "stream",
     "text": [
      "[ 7 14 21 28]\n",
      "17.5\n"
     ]
    }
   ],
   "source": [
    "array1 = np.array([5, 10, 15, 20])\n",
    "array2 = np.array([2, 4, 6, 8])\n",
    "\n",
    "print(array1+array2)\n",
    "mean = np.mean(array1 + array2)\n",
    "print(mean)"
   ]
  },
  {
   "cell_type": "markdown",
   "metadata": {},
   "source": [
    "### Practice Problem 3\n",
    "- Create an array of numbers with the values `[10, 20, 30, 40, 50]`.\n",
    "- Change the second element to 25.\n",
    "- Print the modified array.\n",
    "\n",
    "#### Solution:\n"
   ]
  },
  {
   "cell_type": "code",
   "execution_count": 5,
   "metadata": {},
   "outputs": [
    {
     "name": "stdout",
     "output_type": "stream",
     "text": [
      "[10, 25, 30, 40, 50]\n"
     ]
    }
   ],
   "source": [
    "my_array1 = ([10, 20, 30, 40, 50])\n",
    "my_array1[1] = 25\n",
    "print(my_array1)"
   ]
  },
  {
   "cell_type": "code",
   "execution_count": 6,
   "metadata": {},
   "outputs": [
    {
     "name": "stdout",
     "output_type": "stream",
     "text": [
      "[10, 25, 30, 45, 50]\n"
     ]
    }
   ],
   "source": [
    "my_array1[3] = 45\n",
    "print(my_array1)"
   ]
  },
  {
   "cell_type": "code",
   "execution_count": 7,
   "metadata": {},
   "outputs": [
    {
     "name": "stdout",
     "output_type": "stream",
     "text": [
      "[10, 25, 30, 45, 55]\n"
     ]
    }
   ],
   "source": [
    "my_array1[4] = 55\n",
    "print(my_array1)"
   ]
  },
  {
   "cell_type": "code",
   "execution_count": 8,
   "metadata": {},
   "outputs": [
    {
     "data": {
      "text/plain": [
       "[45, 55]"
      ]
     },
     "execution_count": 8,
     "metadata": {},
     "output_type": "execute_result"
    }
   ],
   "source": [
    "my_array1[3:]"
   ]
  },
  {
   "cell_type": "code",
   "execution_count": 9,
   "metadata": {},
   "outputs": [
    {
     "data": {
      "text/plain": [
       "array([ 5, 10, 15])"
      ]
     },
     "execution_count": 9,
     "metadata": {},
     "output_type": "execute_result"
    }
   ],
   "source": [
    "my_array = np.array([5, 10, 15, 20])\n",
    "my_array[0:3]"
   ]
  },
  {
   "cell_type": "markdown",
   "metadata": {},
   "source": [
    "### Practice Problem 4\n",
    "\n",
    "Create a 6 by 10 (6 rows and 10 columns) 2D numpy array in which the first row is all 1's, the rest of the second column is all 5's, and the rest of the array is all 0's.\n",
    "\n",
    "### Solution:"
   ]
  },
  {
   "cell_type": "code",
   "execution_count": 14,
   "metadata": {},
   "outputs": [
    {
     "name": "stdout",
     "output_type": "stream",
     "text": [
      "[[1. 1. 1. 1. 1. 1. 1. 1. 1. 1.]\n",
      " [0. 5. 0. 0. 0. 0. 0. 0. 0. 0.]\n",
      " [0. 5. 0. 0. 0. 0. 0. 0. 0. 0.]\n",
      " [0. 5. 0. 0. 0. 0. 0. 0. 0. 0.]\n",
      " [0. 5. 0. 0. 0. 0. 0. 0. 0. 0.]\n",
      " [0. 5. 0. 0. 0. 0. 0. 0. 0. 0.]]\n"
     ]
    }
   ],
   "source": [
    "import numpy as np\n",
    "array = np.zeros((6,10))\n",
    "array[0, :] = 1\n",
    "array[1:, 1] = 5\n",
    "print(array)"
   ]
  },
  {
   "cell_type": "markdown",
   "metadata": {},
   "source": [
    "### Practice Problem 5\n",
    "\n",
    "Write a function that takes an array and a threshold number, and returns just the values that are greater than that threshold. "
   ]
  },
  {
   "cell_type": "code",
   "execution_count": null,
   "metadata": {},
   "outputs": [],
   "source": []
  }
 ],
 "metadata": {
  "kernelspec": {
   "display_name": "Python 3 (ipykernel)",
   "language": "python",
   "name": "python3"
  },
  "language_info": {
   "codemirror_mode": {
    "name": "ipython",
    "version": 3
   },
   "file_extension": ".py",
   "mimetype": "text/x-python",
   "name": "python",
   "nbconvert_exporter": "python",
   "pygments_lexer": "ipython3",
   "version": "3.12.7"
  }
 },
 "nbformat": 4,
 "nbformat_minor": 4
}
