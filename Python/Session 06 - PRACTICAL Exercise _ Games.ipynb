{
 "cells": [
  {
   "cell_type": "markdown",
   "metadata": {},
   "source": [
    "# Practical Exercise: Game time!\n",
    "\n",
    "### Scenario\n",
    "- You are opening a mini arcade and want to put together some fun games for your customers! :)\n",
    "\n",
    "### Objectives\n",
    "- Write some fun games that make use of your python knowledge. Practicing using:\n",
    "    - functions\n",
    "    - conditional statements\n",
    "    - loops\n",
    "    - numpy arrays\n",
    "- Learn how to generate random numbers!"
   ]
  },
  {
   "cell_type": "markdown",
   "metadata": {},
   "source": [
    "### Things to know:\n",
    "- The function `np.random.randint(a, b)` returns a random integer between `a` and `b`.\n",
    "- The function `np.random.choice(list)` returns a value randomly selected from `list`.\n",
    "- The function `input(prompt)` will ask the user for an answer to prompt and return the answer as a string.\n",
    "\n"
   ]
  },
  {
   "cell_type": "markdown",
   "metadata": {},
   "source": [
    "## Step 0: Function demo\n",
    "**Let's demo these new functions together!**"
   ]
  },
  {
   "cell_type": "code",
   "execution_count": 17,
   "metadata": {},
   "outputs": [],
   "source": [
    "# import numpy as always\n",
    "import numpy as np"
   ]
  },
  {
   "cell_type": "markdown",
   "metadata": {},
   "source": [
    "The `numpy` package includes a module to generate random numbers called `numpy.random`. There are several useful functions within the module including `np.random.randint()` and `np.random.choice()`.\n"
   ]
  },
  {
   "cell_type": "markdown",
   "metadata": {},
   "source": [
    "### `np.random.randint`\n",
    "`np.random.randint(a,b)` will return a random integer between the integers `a` and `b`. For example:"
   ]
  },
  {
   "cell_type": "code",
   "execution_count": 18,
   "metadata": {},
   "outputs": [
    {
     "data": {
      "text/plain": [
       "7"
      ]
     },
     "execution_count": 18,
     "metadata": {},
     "output_type": "execute_result"
    }
   ],
   "source": [
    "# print a random number between 0 and 5\n",
    "np.random.randint(0, 10)"
   ]
  },
  {
   "cell_type": "code",
   "execution_count": 19,
   "metadata": {},
   "outputs": [],
   "source": [
    "# we can store the random number in a variable too\n"
   ]
  },
  {
   "cell_type": "markdown",
   "metadata": {},
   "source": [
    "Try running the above cells more than once to see that you get different numbers!"
   ]
  },
  {
   "cell_type": "markdown",
   "metadata": {},
   "source": [
    "***Your turn:***\n",
    "Try to generate a random number between -5 and 20."
   ]
  },
  {
   "cell_type": "code",
   "execution_count": 31,
   "metadata": {},
   "outputs": [
    {
     "data": {
      "text/plain": [
       "6"
      ]
     },
     "execution_count": 31,
     "metadata": {},
     "output_type": "execute_result"
    }
   ],
   "source": [
    "# print a random number between -5 and 20\n",
    "\n",
    "np.random.randint(-5, 20)"
   ]
  },
  {
   "cell_type": "markdown",
   "metadata": {},
   "source": [
    "### `np.random.choice`\n",
    "`np.random.choice(list)` will return a random item from `list`. Note that this works for lists and numpy arrays!"
   ]
  },
  {
   "cell_type": "code",
   "execution_count": 25,
   "metadata": {},
   "outputs": [
    {
     "data": {
      "text/plain": [
       "1"
      ]
     },
     "execution_count": 25,
     "metadata": {},
     "output_type": "execute_result"
    }
   ],
   "source": [
    "# You can feed it the list (or array) directly:\n",
    "\n",
    "np.random.choice([0,1,2,3,4,5])"
   ]
  },
  {
   "cell_type": "code",
   "execution_count": 33,
   "metadata": {},
   "outputs": [
    {
     "ename": "AttributeError",
     "evalue": "module 'numpy.random' has no attribute 'list'",
     "output_type": "error",
     "traceback": [
      "\u001b[1;31m---------------------------------------------------------------------------\u001b[0m",
      "\u001b[1;31mAttributeError\u001b[0m                            Traceback (most recent call last)",
      "Cell \u001b[1;32mIn[33], line 3\u001b[0m\n\u001b[0;32m      1\u001b[0m \u001b[38;5;66;03m# Or you can save it as a variable first and then feed it to the function:\u001b[39;00m\n\u001b[1;32m----> 3\u001b[0m np\u001b[38;5;241m.\u001b[39mrandom\u001b[38;5;241m.\u001b[39mlist([a,b,c,d,e])\n\u001b[0;32m      4\u001b[0m \u001b[38;5;28mprint\u001b[39m(np\u001b[38;5;241m.\u001b[39mrandom\u001b[38;5;241m.\u001b[39mlist)\n",
      "\u001b[1;31mAttributeError\u001b[0m: module 'numpy.random' has no attribute 'list'"
     ]
    }
   ],
   "source": [
    "# Or you can save it as a variable first and then feed it to the function:\n",
    "\n",
    "np.random.list([a,b,c,d,e])\n",
    "print(np.random.list)"
   ]
  },
  {
   "cell_type": "code",
   "execution_count": null,
   "metadata": {},
   "outputs": [],
   "source": [
    "# And just like with the previous function, we can also store the output as a variable:\n",
    "\n"
   ]
  },
  {
   "cell_type": "markdown",
   "metadata": {},
   "source": [
    "***Your turn:***\n",
    "Choose a random color from a list of choices."
   ]
  },
  {
   "cell_type": "code",
   "execution_count": null,
   "metadata": {},
   "outputs": [],
   "source": [
    "# Choose a random color from a list of colors:\n",
    "\n",
    "\"\"\"your code here\"\"\""
   ]
  },
  {
   "cell_type": "markdown",
   "metadata": {},
   "source": [
    "### `input`\n",
    "\n",
    "We'll also be using a built-in python function called `input`, which will prompt the user to enter text and store the text as a string."
   ]
  },
  {
   "cell_type": "code",
   "execution_count": null,
   "metadata": {},
   "outputs": [],
   "source": [
    "# Ask the user for a number and print it:\n"
   ]
  },
  {
   "cell_type": "code",
   "execution_count": null,
   "metadata": {},
   "outputs": [],
   "source": [
    "# Ask the user for a number, store the answer as a variable, and print it:\n",
    "\n"
   ]
  },
  {
   "cell_type": "code",
   "execution_count": null,
   "metadata": {},
   "outputs": [],
   "source": [
    "# Remember that by default, the answer is stored as a *string*:\n",
    "\n"
   ]
  },
  {
   "cell_type": "code",
   "execution_count": null,
   "metadata": {},
   "outputs": [],
   "source": [
    "# We might want to convert it to an integer:\n",
    "\n"
   ]
  },
  {
   "cell_type": "markdown",
   "metadata": {},
   "source": [
    "***Your turn:*** Ask the user for their name and print the response."
   ]
  },
  {
   "cell_type": "code",
   "execution_count": null,
   "metadata": {},
   "outputs": [],
   "source": [
    "# Ask the user for their name and print the response\n",
    "\"\"\"your code here\"\"\""
   ]
  },
  {
   "cell_type": "markdown",
   "metadata": {},
   "source": [
    "Great! Now we've learned some new `numpy` and `python` functions and we can use them to build some fun functions."
   ]
  },
  {
   "cell_type": "markdown",
   "metadata": {},
   "source": [
    "---"
   ]
  },
  {
   "cell_type": "markdown",
   "metadata": {},
   "source": [
    "## Step 1: What's for lunch? (*together*)"
   ]
  },
  {
   "cell_type": "markdown",
   "metadata": {},
   "source": [
    "\n",
    "Sometimes it's hard to choose what to eat for lunch and we might want a suggestion. Let's make a list of options and ask the computer to pick something for us!"
   ]
  },
  {
   "cell_type": "code",
   "execution_count": 35,
   "metadata": {},
   "outputs": [
    {
     "data": {
      "text/plain": [
       "'pizza'"
      ]
     },
     "execution_count": 35,
     "metadata": {},
     "output_type": "execute_result"
    }
   ],
   "source": [
    "# Define a list of some lunch options\n",
    "lunch_options = ['sandwich' , 'pizza', 'salad', 'tuna']\n",
    "#print(lunch_options)\n",
    "\n",
    "# Choose one!\n",
    "np.random.choice(lunch_options)"
   ]
  },
  {
   "cell_type": "markdown",
   "metadata": {},
   "source": [
    "For convenience, we can make this into a function:"
   ]
  },
  {
   "cell_type": "code",
   "execution_count": 40,
   "metadata": {},
   "outputs": [],
   "source": [
    "def what_should_i_eat():\n",
    "    \"\"\"Function to suggest a random lunch option from a predefined list.\"\"\"\n",
    "\n",
    "    # Define a list of lunch options\n",
    "    lunch_options = ['pizza', 'soup', 'sushi', 'dosa']\n",
    "\n",
    "    # Choose a random lunch option\n",
    "    random_lunch = np.random.choice(lunch_options)\n",
    "\n",
    "    # Print the choice\n",
    "    print(f\"You should eat {random_lunch} for lunch today!\")"
   ]
  },
  {
   "cell_type": "code",
   "execution_count": 41,
   "metadata": {},
   "outputs": [
    {
     "name": "stdout",
     "output_type": "stream",
     "text": [
      "You should eat sushi for lunch today!\n"
     ]
    }
   ],
   "source": [
    "what_should_i_eat()"
   ]
  },
  {
   "cell_type": "markdown",
   "metadata": {},
   "source": [
    "Maybe we have two categories of foods, for days we want to eat meat and days we want to be vegeterian. We can make our function a little more complicated:"
   ]
  },
  {
   "cell_type": "code",
   "execution_count": 48,
   "metadata": {},
   "outputs": [],
   "source": [
    "def what_should_i_eat_vegeterian(vegeterian = False):\n",
    "    \"\"\"Function to suggest a random lunch option from a predefined list.\n",
    "    \n",
    "    input:\n",
    "    vegeterian: bool, if True, suggests only vegetarian options\n",
    "    \"\"\"\n",
    "    if vegeterian:\n",
    "        lunch_options = ['fish', 'pizza', 'salad']\n",
    "    else:\n",
    "        lunch_options = ['steak', 'chicken', 'turkey']\n",
    "\n",
    "    # Choose a random lunch option\n",
    "    random_lunch = np.random.choice(lunch_options)\n",
    "\n",
    "    # Print the choice\n",
    "    print(f\"You should eat {random_lunch} for lunch today! It's {'vegetarian' if vegeterian else 'not vegetarian'}.\")"
   ]
  },
  {
   "cell_type": "code",
   "execution_count": 50,
   "metadata": {},
   "outputs": [
    {
     "name": "stdout",
     "output_type": "stream",
     "text": [
      "You should eat chicken for lunch today! It's not vegetarian.\n"
     ]
    }
   ],
   "source": [
    "what_should_i_eat_vegeterian(vegeterian=True)"
   ]
  },
  {
   "cell_type": "markdown",
   "metadata": {},
   "source": [
    "We can also make a version that asks the user instead of requiring an arguement:"
   ]
  },
  {
   "cell_type": "code",
   "execution_count": 83,
   "metadata": {},
   "outputs": [],
   "source": [
    "def what_should_i_eat_vegeterian_user():\n",
    "    \"\"\"Function to suggest a random lunch option from a predefined list.\n",
    "    \n",
    "    input:\n",
    "    vegeterian: bool, if True, suggests only vegetarian options\n",
    "    \"\"\"\n",
    "\n",
    "    vegeterian = \n",
    "\n",
    "    if vegeterian == \"yes\":\n",
    "        lunch_options = ['fish', 'pizza', 'salad']\n",
    "    else:\n",
    "        lunch_options = ['steak', 'chicken', 'turkey']\n",
    "\n",
    "    # Choose a random lunch option\n",
    "    random_lunch = \n",
    "\n",
    "    # Print the choice\n",
    "    print(f\"You should eat {random_lunch} for lunch today! It's {'vegetarian' if vegeterian == 'yes' else 'not vegetarian'}.\")"
   ]
  },
  {
   "cell_type": "code",
   "execution_count": null,
   "metadata": {},
   "outputs": [],
   "source": [
    "what_should_i_eat_vegeterian_user()"
   ]
  },
  {
   "cell_type": "markdown",
   "metadata": {},
   "source": [
    "## Step 2: Magic eight ball (*your turn*)"
   ]
  },
  {
   "cell_type": "markdown",
   "metadata": {},
   "source": [
    "\n",
    "**Task**\n",
    "\n",
    "- Construct a magic 8 ball where the computer picks a random answer to your question.\n",
    "- To do this, you'll want to write a function `magic_eight_ball()` which will prompt the user for a question and return its answer.\n",
    "\n",
    "**Hints**\n",
    "\n",
    "- Think of the steps required to make the game happen. Try writing them out in words before you write them out in code!"
   ]
  },
  {
   "cell_type": "code",
   "execution_count": 1,
   "metadata": {},
   "outputs": [],
   "source": [
    "def magic_eight_ball():\n",
    "    import numpy as np\n",
    "    question = input(\"Ask the Magic 8 Ball a yes/no question:\")\n",
    "    \n",
    "    # Step 2: Define possible responses\n",
    "    responses = [\"It is certain.\", \"Without a doubt.\", \"Yes – definitely.\", \"You may rely on it.\", \"Don’t count on it.\" , \"Outlook not so good.\"]\n",
    "\n",
    "    # Step 3: Pick a random response\n",
    "    answer = np.random.choice(responses)\n",
    "\n",
    "    # Step 4: Display the answer\n",
    "    print(\"The Magic 8 Ball says:\", answer)"
   ]
  },
  {
   "cell_type": "code",
   "execution_count": 3,
   "metadata": {},
   "outputs": [
    {
     "name": "stdin",
     "output_type": "stream",
     "text": [
      "Ask the Magic 8 Ball a yes/no question: will it rain today\n"
     ]
    },
    {
     "name": "stdout",
     "output_type": "stream",
     "text": [
      "The Magic 8 Ball says: You may rely on it.\n"
     ]
    }
   ],
   "source": [
    "magic_eight_ball()"
   ]
  },
  {
   "cell_type": "markdown",
   "metadata": {},
   "source": [
    "## Step 3: Math quiz (*together*)\n"
   ]
  },
  {
   "cell_type": "markdown",
   "metadata": {},
   "source": [
    "A game for the nerds! Let's make a function to randomly generate a little math problem and quiz us. \n",
    "\n",
    "First let's play around with our random numbers outside of the function:"
   ]
  },
  {
   "cell_type": "code",
   "execution_count": 5,
   "metadata": {},
   "outputs": [
    {
     "data": {
      "text/plain": [
       "130"
      ]
     },
     "execution_count": 5,
     "metadata": {},
     "output_type": "execute_result"
    }
   ],
   "source": [
    "# Generate two random numbers\n",
    "num1 = 70\n",
    "num2 = 60\n",
    "\n",
    "# Print the sum of the two numbers as an equation\n",
    "sum([num1,num2])\n"
   ]
  },
  {
   "cell_type": "markdown",
   "metadata": {},
   "source": [
    "Now let's make our function"
   ]
  },
  {
   "cell_type": "code",
   "execution_count": null,
   "metadata": {},
   "outputs": [],
   "source": [
    "def math_quiz():\n",
    "    \"\"\"Function to ask a simple math question and check the answer.\"\"\"\n",
    "    \n",
    "    # Generate two random numbers\n",
    "    num1 = 70\n",
    "    num2 = 60\n",
    "    \n",
    "    # Calculate the correct answer\n",
    "    correct_answer = 4,200\n",
    "    \n",
    "    # Ask the user for their answer\n",
    "    user_answer = \n",
    "    \n",
    "    # Check if the user's answer is correct\n",
    "\n"
   ]
  },
  {
   "cell_type": "code",
   "execution_count": null,
   "metadata": {},
   "outputs": [],
   "source": [
    "math_quiz()"
   ]
  },
  {
   "cell_type": "markdown",
   "metadata": {},
   "source": [
    "Maybe we want the user to keep guessing until they get it correct. For that, we can use `while` loop, which will keep repeating the same code until a specified condition is met. For example:"
   ]
  },
  {
   "cell_type": "code",
   "execution_count": null,
   "metadata": {},
   "outputs": [],
   "source": [
    "# Keep adding 1 to i and printing it until i is equal to 5\n",
    "i = 0\n",
    "while i < 5:\n",
    "    print(i)\n",
    "    i += 1\n",
    "print(\"Loop finished!\")"
   ]
  },
  {
   "cell_type": "code",
   "execution_count": null,
   "metadata": {},
   "outputs": [],
   "source": [
    "def math_quiz_loop():\n",
    "    \"\"\"Function to ask a simple math question and check the answer.\"\"\"\n",
    "    \n",
    "    # Generate two random numbers\n",
    "    num1 = np.random.randint(1, 10)\n",
    "    num2 = np.random.randint(1, 10)\n",
    "    \n",
    "    # Calculate the correct answer\n",
    "    correct_answer = num1 + num2\n",
    "\n",
    "    # Initialize our termination condition\n",
    "    user_correct = False\n",
    "\n",
    "    # keep asking the user until they get the answer right\n",
    "\n"
   ]
  },
  {
   "cell_type": "code",
   "execution_count": null,
   "metadata": {},
   "outputs": [],
   "source": [
    "math_quiz_loop()"
   ]
  },
  {
   "cell_type": "markdown",
   "metadata": {},
   "source": [
    "## Step 4: Guessing the number! (*your turn*)"
   ]
  },
  {
   "cell_type": "markdown",
   "metadata": {},
   "source": [
    "\n",
    "**Task**\n",
    "\n",
    "- Construct a game where the computer chooses a random number, and you (the player) try to guess the number. \n",
    "- To do this, you'll want to write a function `play_number_guessing_game()` which will prompt the user to guess until they pick the right number.\n",
    "\n",
    "**Hints**\n",
    "\n",
    "- Think of the steps required to make the game happen before you start coding. \n",
    "- Try to write smaller functions that take care of different tasks.\n",
    "    - You might want to write a function `check_guess(answer, guess)` that returns `True` if the guess is correct (`answer == guess`) and False otherwise. Maybe you want to tell the player if their number is too high or too low?\n",
    "\n",
    "**Things to consider**\n",
    "- Do you want your player to keep guessing forever until they get the number or have a finite number of chances?\n",
    "- Do you want the computer to give feedback on the guesses? \n",
    "- How hard do you want the game to be? "
   ]
  },
  {
   "cell_type": "code",
   "execution_count": 27,
   "metadata": {},
   "outputs": [
    {
     "ename": "SyntaxError",
     "evalue": "expected ':' (3330870761.py, line 14)",
     "output_type": "error",
     "traceback": [
      "\u001b[1;36m  Cell \u001b[1;32mIn[27], line 14\u001b[1;36m\u001b[0m\n\u001b[1;33m    else guess > answer:\u001b[0m\n\u001b[1;37m         ^\u001b[0m\n\u001b[1;31mSyntaxError\u001b[0m\u001b[1;31m:\u001b[0m expected ':'\n"
     ]
    }
   ],
   "source": [
    "def check_guess(answer, guess):\n",
    "    \"\"\"Function to check if the user's guess is correct.\"\"\"\n",
    "    guess = np.random.randint(1,99)\n",
    "    print(guess)\n",
    "    \n",
    "    if guess == answer:\n",
    "        print('You got it')\n",
    "        return true\n",
    "        \n",
    "    elif guess < answer:\n",
    "        print('Too low')\n",
    "        return false\n",
    "        \n",
    "    else guess > answer:\n",
    "        print('Too high')\n",
    "        return false\n",
    "\n",
    "    def play_number_guessing_game():\n",
    "    \"\"\"Function to play a number guessing game.\"\"\"\n"
   ]
  },
  {
   "cell_type": "code",
   "execution_count": 28,
   "metadata": {},
   "outputs": [
    {
     "ename": "NameError",
     "evalue": "name 'check_guess' is not defined",
     "output_type": "error",
     "traceback": [
      "\u001b[1;31m---------------------------------------------------------------------------\u001b[0m",
      "\u001b[1;31mNameError\u001b[0m                                 Traceback (most recent call last)",
      "Cell \u001b[1;32mIn[28], line 1\u001b[0m\n\u001b[1;32m----> 1\u001b[0m check_guess(\u001b[38;5;241m1\u001b[39m,\u001b[38;5;241m99\u001b[39m)\n",
      "\u001b[1;31mNameError\u001b[0m: name 'check_guess' is not defined"
     ]
    }
   ],
   "source": [
    "check_guess(1,99)"
   ]
  },
  {
   "cell_type": "code",
   "execution_count": null,
   "metadata": {},
   "outputs": [],
   "source": [
    "def play_number_guessing_game():\n",
    "\n",
    "    number = np.random.randint(1,101)\n",
    "    print(number)\n",
    "\n",
    "    correct_guess = False\n",
    "\n",
    "    while correct_guess == False\n",
    "        guess = input('Guess a number between 1 and 100:')\n",
    "        guess = int(guess)\n",
    "\n",
    "    correct \n"
   ]
  },
  {
   "cell_type": "markdown",
   "metadata": {},
   "source": [
    "# Bonus\n",
    "\n",
    "Here are some other things you can do that use only basic python like functions, loops, conditionals, and arrays. Feel free to give them a try from scratch, make some modifications to the provided solutions, or just play the games!"
   ]
  },
  {
   "cell_type": "markdown",
   "metadata": {},
   "source": [
    "## Step 5: Guess the word!\n",
    "\n",
    "**Task**\n",
    "- Construct a hangman-like game, where the computer thinks of a word and the user tries to guess the letters. \n",
    "- To do this, you'll want to write a function `play_word_guessing_game()` which will prompt the user to guess until they pick the right number.\n",
    "\n",
    "**Things to consider**\n",
    "- How many words do you want the computer to draw from? \n",
    "- How should the player be updated on their progress?\n",
    "- How many guess should the player have?\n",
    "- What should you do if a player guesses the same letter twice?"
   ]
  },
  {
   "cell_type": "code",
   "execution_count": null,
   "metadata": {},
   "outputs": [],
   "source": [
    "def play_word_guessing_game():\n",
    "    \"\"\"Function to play a word guessing game.\"\"\"\n",
    "\n"
   ]
  },
  {
   "cell_type": "code",
   "execution_count": null,
   "metadata": {},
   "outputs": [],
   "source": [
    "play_word_guessing_game()"
   ]
  },
  {
   "cell_type": "markdown",
   "metadata": {},
   "source": [
    "## Step 6: Tic-tac-toe\n",
    "\n",
    "**Task**\n",
    "- Construct a tic tac toe game, where the computer you and the computer place X's and O's until someone gets three in a row. \n",
    "- To do this, you'll want to write a function `play_tic_tac_toe()` which will print the board and prompt the player to choose a spot to play.\n",
    "\n",
    "**Things to consider**\n",
    "- How do you want to print the board?\n",
    "- What should happen if the player chooses a position that has already been played?\n",
    "- How should you check if someone has won the game?\n",
    "- Can you make a 2-player version?"
   ]
  },
  {
   "cell_type": "code",
   "execution_count": null,
   "metadata": {},
   "outputs": [],
   "source": [
    "def play_tic_tac_toe():\n",
    "    \"\"\"Function to play a Tic Tac Toe game.\"\"\"\n",
    "    \n"
   ]
  },
  {
   "cell_type": "code",
   "execution_count": null,
   "metadata": {},
   "outputs": [],
   "source": [
    "play_tic_tac_toe()"
   ]
  },
  {
   "cell_type": "code",
   "execution_count": null,
   "metadata": {},
   "outputs": [],
   "source": []
  }
 ],
 "metadata": {
  "kernelspec": {
   "display_name": "Python 3 (ipykernel)",
   "language": "python",
   "name": "python3"
  },
  "language_info": {
   "codemirror_mode": {
    "name": "ipython",
    "version": 3
   },
   "file_extension": ".py",
   "mimetype": "text/x-python",
   "name": "python",
   "nbconvert_exporter": "python",
   "pygments_lexer": "ipython3",
   "version": "3.12.7"
  }
 },
 "nbformat": 4,
 "nbformat_minor": 4
}
